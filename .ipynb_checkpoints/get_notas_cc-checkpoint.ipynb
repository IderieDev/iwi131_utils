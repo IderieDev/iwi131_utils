{
 "cells": [
  {
   "cell_type": "code",
   "execution_count": 1,
   "metadata": {},
   "outputs": [],
   "source": [
    "from iwi131_utils import iwi131_utils\n",
    "import logging\n",
    "import os\n",
    "import pandas as pd \n",
    "\n",
    "pjoin = os.path.join\n",
    "\n",
    "logging.basicConfig(level=getattr(logging, 'INFO'))\n",
    "logger = logging.getLogger('get_notas_csj')"
   ]
  },
  {
   "cell_type": "code",
   "execution_count": 2,
   "metadata": {},
   "outputs": [],
   "source": [
    "# VARIABLES DE ENTORNO\n",
    "\n",
    "# Contests de hackerrank\n",
    "#contests =[\"https://www.hackerrank.com/lab2-07-cachapoal\"]\n",
    "contests =['https://www.hackerrank.com/lab2-cc-01-loa',\n",
    "'https://www.hackerrank.com/lab2-cc-02-limari',\n",
    "'https://www.hackerrank.com/lab2-cc-06-teno',\n",
    "'https://www.hackerrank.com/lab2-cc-08-itata']\n",
    "\n",
    "# Plantilla de SIGA para las listas\n",
    "siga_lista='Curso_IWI131_{0}_2019-1.xls'\n",
    "\n",
    "# Paralelos\n",
    "paralelos=range(1,23)\n",
    "\n",
    "# Directorio de listas\n",
    "dir_listas = pjoin('/Users/dylan/Desktop/iwi131_utils/listas_2019s1_cc/')\n",
    "\n",
    "# Directorio de notas\n",
    "dir_notas = pjoin('/Users/dylan/Desktop/iwi131_utils/notas_lab2_2019s1_cc/')\n",
    "\n",
    "# Ratio de similitud entre usuarios (debe ser mayor o igual a 0.85)\n",
    "ratio_user=0.85"
   ]
  },
  {
   "cell_type": "code",
   "execution_count": 3,
   "metadata": {},
   "outputs": [],
   "source": [
    "# Diccionario de DFs por paralelo\n",
    "dic_df_par={}\n",
    "\n",
    "# Obtencion de los alumnos desde las listas del SIGA\n",
    "logger.debug('++ Obteniendo datos de las listas de SIGA...')\n",
    "for par in paralelos:\n",
    "    curso=pjoin(dir_listas, siga_lista.format(par))\n",
    "    dic_df_par[par]=iwi131_utils.estudiantes_x_paralelo_siga(curso)\n",
    "logger.debug('++ OK')"
   ]
  },
  {
   "cell_type": "code",
   "execution_count": 4,
   "metadata": {},
   "outputs": [
    {
     "name": "stderr",
     "output_type": "stream",
     "text": [
      "/Users/dylan/anaconda3/lib/python3.7/site-packages/selenium/webdriver/phantomjs/webdriver.py:49: UserWarning: Selenium support for PhantomJS has been deprecated, please use headless versions of Chrome or Firefox instead\n",
      "  warnings.warn('Selenium support for PhantomJS has been deprecated, please use headless '\n",
      "INFO:iwi131_utils:Loading leaderboard from url https://www.hackerrank.com/lab2-cc-01-loa/leaderboard\n",
      "INFO:iwi131_utils:Page 1 loaded.\n",
      "INFO:iwi131_utils:Page 2 loaded.\n",
      "INFO:iwi131_utils:Page 3 loaded.\n",
      "INFO:iwi131_utils:Page 4 loaded.\n",
      "INFO:iwi131_utils:Page 5 loaded.\n",
      "INFO:iwi131_utils:Page 6 loaded.\n",
      "INFO:iwi131_utils:Page 7 loaded.\n",
      "INFO:iwi131_utils:Page 8 loaded.\n",
      "INFO:iwi131_utils:Page 9 loaded.\n",
      "INFO:iwi131_utils:Page 10 loaded.\n",
      "INFO:iwi131_utils:Page 11 loaded.\n",
      "INFO:iwi131_utils:Page 12 loaded.\n",
      "INFO:iwi131_utils:Page 13 loaded.\n",
      "INFO:iwi131_utils:Page 14 loaded.\n",
      "INFO:iwi131_utils:Page 15 loaded.\n",
      "INFO:iwi131_utils:Page 16 loaded.\n",
      "INFO:iwi131_utils:Page 17 loaded.\n",
      "INFO:iwi131_utils:Leaderboard details not found -- Done loading\n",
      "INFO:iwi131_utils:Loading leaderboard from url https://www.hackerrank.com/lab2-cc-02-limari/leaderboard\n",
      "INFO:iwi131_utils:Page 1 loaded.\n",
      "INFO:iwi131_utils:Page 2 loaded.\n",
      "INFO:iwi131_utils:Page 3 loaded.\n",
      "INFO:iwi131_utils:Page 4 loaded.\n",
      "INFO:iwi131_utils:Page 5 loaded.\n",
      "INFO:iwi131_utils:Page 6 loaded.\n",
      "INFO:iwi131_utils:Page 7 loaded.\n",
      "INFO:iwi131_utils:Page 8 loaded.\n",
      "INFO:iwi131_utils:Page 9 loaded.\n",
      "INFO:iwi131_utils:Page 10 loaded.\n",
      "INFO:iwi131_utils:Page 11 loaded.\n",
      "INFO:iwi131_utils:Page 12 loaded.\n",
      "INFO:iwi131_utils:Page 13 loaded.\n",
      "INFO:iwi131_utils:Page 14 loaded.\n",
      "INFO:iwi131_utils:Page 15 loaded.\n",
      "INFO:iwi131_utils:Page 16 loaded.\n",
      "INFO:iwi131_utils:Page 17 loaded.\n",
      "INFO:iwi131_utils:Page 18 loaded.\n",
      "INFO:iwi131_utils:Leaderboard details not found -- Done loading\n",
      "INFO:iwi131_utils:Loading leaderboard from url https://www.hackerrank.com/lab2-cc-06-teno/leaderboard\n",
      "INFO:iwi131_utils:Page 1 loaded.\n",
      "INFO:iwi131_utils:Page 2 loaded.\n",
      "INFO:iwi131_utils:Page 3 loaded.\n",
      "INFO:iwi131_utils:Page 4 loaded.\n",
      "INFO:iwi131_utils:Page 5 loaded.\n",
      "INFO:iwi131_utils:Page 6 loaded.\n",
      "INFO:iwi131_utils:Page 7 loaded.\n",
      "INFO:iwi131_utils:Page 8 loaded.\n",
      "INFO:iwi131_utils:Page 9 loaded.\n",
      "INFO:iwi131_utils:Page 10 loaded.\n",
      "INFO:iwi131_utils:Page 11 loaded.\n",
      "INFO:iwi131_utils:Page 12 loaded.\n",
      "INFO:iwi131_utils:Page 13 loaded.\n",
      "INFO:iwi131_utils:Page 14 loaded.\n",
      "INFO:iwi131_utils:Leaderboard details not found -- Done loading\n",
      "INFO:iwi131_utils:Loading leaderboard from url https://www.hackerrank.com/lab2-cc-08-itata/leaderboard\n",
      "INFO:iwi131_utils:Page 1 loaded.\n",
      "INFO:iwi131_utils:Page 2 loaded.\n",
      "INFO:iwi131_utils:Page 3 loaded.\n",
      "INFO:iwi131_utils:Page 4 loaded.\n",
      "INFO:iwi131_utils:Page 5 loaded.\n",
      "INFO:iwi131_utils:Leaderboard details not found -- Done loading\n"
     ]
    }
   ],
   "source": [
    "# Lista con los alumnos y notas desde los leaderboard\n",
    "lista_alumnos_nota=[]\n",
    "\n",
    "logger.debug('++ Obteniendo notas desde todos los contests...')\n",
    "#Obtencion de los usuarios y notas de los leaderboard\n",
    "for con in contests:\n",
    "    scr = iwi131_utils.Scraper(con+'/leaderboard')\n",
    "    lista_alumnos_nota+=[(sansano_hack.username,sansano_hack.nota) for sansano_hack in scr.scrape()]\n",
    "logger.debug('++ OK')\n",
    "\n",
    "# FUNCION PARA CAMBIAR FORMATO USMROL\n",
    "def map_rol_standard(username):\n",
    "    import re\n",
    "    p = re.compile(r'USM(?P<rol>\\d{9})')\n",
    "    m = p.search(username[0])\n",
    "    if m:\n",
    "        return (m.group('rol'),username[1])\n",
    "    return username\n",
    "lista_alumnos_nota = list(map(map_rol_standard, lista_alumnos_nota))\n",
    "\n",
    "# DF con todas las notas y los usuarios\n",
    "df_alumnos_nota=pd.DataFrame(lista_alumnos_nota, columns = ['rol', 'nota']) "
   ]
  },
  {
   "cell_type": "code",
   "execution_count": 5,
   "metadata": {},
   "outputs": [],
   "source": [
    "# Diccionario llave paralelo y valor un df con los roles,user y nota de cada alumno\n",
    "match_alumnos_notas={}\n",
    "\n",
    "# Merge entre todas las notas y los alumnos por paralelo\n",
    "logger.debug('++ Empaquetando las notas por paralelo...')\n",
    "for paralelo in paralelos:\n",
    "    match_alumnos_notas[paralelo]=pd.merge(df_alumnos_nota,dic_df_par[paralelo], on=\"rol\")\n",
    "logger.debug('++ OK')    "
   ]
  },
  {
   "cell_type": "code",
   "execution_count": 6,
   "metadata": {},
   "outputs": [],
   "source": [
    "logger.debug('++ Obteniendo alumnos no identificados...')\n",
    "# DF con los alumnos sin identificacion en el match por paralelo\n",
    "alumnos_sin_identificar_all=pd.concat([pd.concat(match_alumnos_notas.values(),sort=False), df_alumnos_nota],sort=False).drop_duplicates(subset='rol', keep=False)\n",
    "logger.debug('++ OK')    "
   ]
  },
  {
   "cell_type": "code",
   "execution_count": 7,
   "metadata": {
    "scrolled": false
   },
   "outputs": [],
   "source": [
    "# Identificacion de los alumnos NN por paralelo\n",
    "logger.debug('++ Identificando usuarios mal ingresados...')\n",
    "residuos=[]\n",
    "for paralelo in paralelos:\n",
    "    aux_df,residuo=iwi131_utils.identificador_nn(dic_df_par[paralelo],alumnos_sin_identificar_all,ratio_user)\n",
    "    residuos+=(residuo)\n",
    "    match_alumnos_notas[paralelo]=pd.concat([match_alumnos_notas[paralelo],aux_df],sort=False).drop_duplicates(subset='rol', keep='first').reset_index(drop=True)\n",
    "logger.debug('++ OK')"
   ]
  },
  {
   "cell_type": "code",
   "execution_count": 8,
   "metadata": {},
   "outputs": [],
   "source": [
    "logger.debug('++ Obteniendo alumnos no identificados finales...')\n",
    "# DF con los alumnos sin identificacion en el match por paralelo\n",
    "alumnos_sin_identificar_final=pd.concat([pd.DataFrame(residuos, columns = ['rol']), alumnos_sin_identificar_all],sort=False).drop_duplicates(subset='rol', keep=False).reset_index(drop=True)\n",
    "logger.debug('++ OK')"
   ]
  },
  {
   "cell_type": "code",
   "execution_count": 9,
   "metadata": {},
   "outputs": [],
   "source": [
    "# Guarda las notas de los paralelos\n",
    "logger.debug('++ Guardando notas en CSV por paralelo...')\n",
    "for paralelo,df in match_alumnos_notas.items():\n",
    "    df.to_csv(pjoin(dir_notas,'NOTAS_LAB2_{0}.csv'.format(paralelo)))\n",
    "logger.debug('++ OK')"
   ]
  },
  {
   "cell_type": "code",
   "execution_count": 10,
   "metadata": {},
   "outputs": [],
   "source": [
    "# Guarda en un CVS las notas de los alumnos sin identificar\n",
    "logger.debug('++ Guardando notas de alumnos no identificados...')\n",
    "alumnos_sin_identificar_final.to_csv(pjoin(dir_notas,'NOTAS_LAB2_NN.csv'.format(paralelo)))\n",
    "logger.debug('++ OK')"
   ]
  },
  {
   "cell_type": "code",
   "execution_count": 11,
   "metadata": {},
   "outputs": [
    {
     "name": "stdout",
     "output_type": "stream",
     "text": [
      "Usuarios totales: 523\n",
      "Usuarios identificados: 466\n",
      "Usuarios sin identificar: 61\n",
      "Usuarios perdidos: -4\n"
     ]
    }
   ],
   "source": [
    "totales=len(df_alumnos_nota)\n",
    "iden=len(pd.concat(match_alumnos_notas.values()))\n",
    "no_iden=len(alumnos_sin_identificar_final)\n",
    "perdidos=(totales-(iden+no_iden))\n",
    "print('Usuarios totales: {}'.format(totales))\n",
    "print('Usuarios identificados: {}'.format(iden))\n",
    "print('Usuarios sin identificar: {}'.format(no_iden))\n",
    "print('Usuarios perdidos: {}'.format(perdidos))"
   ]
  },
  {
   "cell_type": "code",
   "execution_count": null,
   "metadata": {},
   "outputs": [],
   "source": []
  }
 ],
 "metadata": {
  "kernelspec": {
   "display_name": "Python 3",
   "language": "python",
   "name": "python3"
  },
  "language_info": {
   "codemirror_mode": {
    "name": "ipython",
    "version": 3
   },
   "file_extension": ".py",
   "mimetype": "text/x-python",
   "name": "python",
   "nbconvert_exporter": "python",
   "pygments_lexer": "ipython3",
   "version": "3.7.3"
  }
 },
 "nbformat": 4,
 "nbformat_minor": 2
}
