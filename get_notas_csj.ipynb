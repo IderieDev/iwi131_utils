{
 "cells": [
  {
   "cell_type": "code",
   "execution_count": 1,
   "metadata": {},
   "outputs": [],
   "source": [
    "from iwi131_utils import iwi131_utils\n",
    "import logging\n",
    "import os\n",
    "import pandas as pd \n",
    "\n",
    "pjoin = os.path.join\n",
    "\n",
    "logging.basicConfig(level=getattr(logging, 'INFO'))\n",
    "logger = logging.getLogger('get_notas_csj')"
   ]
  },
  {
   "cell_type": "code",
   "execution_count": 2,
   "metadata": {},
   "outputs": [],
   "source": [
    "# VARIABLES DE ENTORNO\n",
    "\n",
    "# Contests de hackerrank\n",
    "contests =['https://www.hackerrank.com/01-apoquindo-sj','https://www.hackerrank.com/09-manquehue',\n",
    "'https://www.hackerrank.com/04-el-plomo','https://www.hackerrank.com/02-calan',\n",
    "'https://www.hackerrank.com/10-torrecillas','https://www.hackerrank.com/12-provincia-sj',\n",
    "'https://www.hackerrank.com/06-la-cruz','https://www.hackerrank.com/08-leonera',\n",
    "'https://www.hackerrank.com/11-pintor']\n",
    "\n",
    "# Plantilla de SIGA para las listas\n",
    "siga_lista='Curso_IWI131_{0}_2019-1.xls'\n",
    "\n",
    "# Paralelos\n",
    "paralelos=range(200,215)\n",
    "\n",
    "# Directorio de listas\n",
    "dir_listas = pjoin('/home/jovyan/listas_2019s1_csj/')\n",
    "\n",
    "# Directorio de notas\n",
    "dir_notas = pjoin('/home/jovyan/notas_lab1_2019s1_csj/')"
   ]
  },
  {
   "cell_type": "code",
   "execution_count": null,
   "metadata": {},
   "outputs": [],
   "source": [
    "# Diccionario de DFs por paralelo\n",
    "dic_df_par={}\n",
    "\n",
    "# Obtencion de los alumnos desde las listas del SIGA\n",
    "logger.debug('++ Obteniendo datos de las listas de SIGA...')\n",
    "for par in paralelos:\n",
    "    curso=pjoin(dir_listas, siga_lista.format(par))\n",
    "    dic_df_par[par]=iwi131_utils.estudiantes_x_paralelo_siga(curso)\n",
    "logger.debug('++ OK')"
   ]
  },
  {
   "cell_type": "code",
   "execution_count": null,
   "metadata": {},
   "outputs": [
    {
     "name": "stderr",
     "output_type": "stream",
     "text": [
      "/opt/conda/lib/python3.7/site-packages/selenium/webdriver/phantomjs/webdriver.py:49: UserWarning: Selenium support for PhantomJS has been deprecated, please use headless versions of Chrome or Firefox instead\n",
      "  warnings.warn('Selenium support for PhantomJS has been deprecated, please use headless '\n",
      "INFO:iwi131_utils:Loading leaderboard from url https://www.hackerrank.com/01-apoquindo-sj/leaderboard\n",
      "INFO:iwi131_utils:Page 1 loaded.\n",
      "INFO:iwi131_utils:Page 2 loaded.\n",
      "INFO:iwi131_utils:Page 3 loaded.\n",
      "INFO:iwi131_utils:Page 4 loaded.\n",
      "INFO:iwi131_utils:Page 5 loaded.\n",
      "INFO:iwi131_utils:Page 6 loaded.\n",
      "INFO:iwi131_utils:Leaderboard details not found -- Done loading\n",
      "INFO:iwi131_utils:Loading leaderboard from url https://www.hackerrank.com/09-manquehue/leaderboard\n",
      "INFO:iwi131_utils:Page 1 loaded.\n",
      "INFO:iwi131_utils:Page 2 loaded.\n",
      "INFO:iwi131_utils:Page 3 loaded.\n"
     ]
    }
   ],
   "source": [
    "# Lista con los alumnos y notas desde los leaderboard\n",
    "lista_alumnos_nota=[]\n",
    "\n",
    "logger.debug('++ Obteniendo notas desde todos los contests...')\n",
    "#Obtencion de los usuarios y notas de los leaderboard\n",
    "for con in contests:\n",
    "    scr = iwi131_utils.Scraper(con+'/leaderboard')\n",
    "    lista_alumnos_nota+=[(sansano_hack.username,sansano_hack.nota) for sansano_hack in scr.scrape()]\n",
    "logger.debug('++ OK')\n",
    "\n",
    "# DF con todas las notas y los usuarios\n",
    "df_alumnos_nota=pd.DataFrame(lista_alumnos_nota, columns = ['username', 'nota']) "
   ]
  },
  {
   "cell_type": "code",
   "execution_count": null,
   "metadata": {},
   "outputs": [],
   "source": [
    "# Diccionario llave paralelo y valor un df con los roles,user y nota de cada alumno\n",
    "match_alumnos_notas={}\n",
    "\n",
    "# Merge entre todas las notas y los alumnos por paralelo\n",
    "logger.debug('++ Empaquetando las notas por paralelo...')\n",
    "for paralelo in paralelos:\n",
    "    match_alumnos_notas[paralelo]=pd.merge(df_alumnos_nota,dic_df_par[paralelo], on=\"username\")\n",
    "logger.debug('++ OK')    "
   ]
  },
  {
   "cell_type": "code",
   "execution_count": null,
   "metadata": {},
   "outputs": [],
   "source": [
    "# Guarda las notas de los paralelos\n",
    "logger.debug('++ Guardando notas en CSV por paralelo...')\n",
    "for paralelo,df in match_alumnos_notas.items():\n",
    "    df.to_csv(pjoin(dir_notas,'NOTAS_LAB1_{0}'.format(paralelo)))\n",
    "logger.debug('++ OK')"
   ]
  },
  {
   "cell_type": "code",
   "execution_count": null,
   "metadata": {},
   "outputs": [],
   "source": [
    "logger.debug('++ Obteniendo alumnos no identificados...')\n",
    "# DF con los alumnos sin identificacion en el match por paralelo\n",
    "alumnos_sin_identificar=pd.concat([pd.concat(match_alumnos_notas.values()), df_alumnos_nota]).drop_duplicates(subset='username', keep=False)\n",
    "\n",
    "# Guarda en un CVS las notas de los alumnos sin identificar\n",
    "alumnos_sin_identificar.to_csv(pjoin(dir_notas,'NOTAS_LAB1_NN'.format(paralelo)))\n",
    "logger.debug('++ OK')"
   ]
  },
  {
   "cell_type": "code",
   "execution_count": null,
   "metadata": {},
   "outputs": [],
   "source": [
    "logger.debug('+++ Notas listas !')"
   ]
  }
 ],
 "metadata": {
  "kernelspec": {
   "display_name": "Python 3",
   "language": "python",
   "name": "python3"
  },
  "language_info": {
   "codemirror_mode": {
    "name": "ipython",
    "version": 3
   },
   "file_extension": ".py",
   "mimetype": "text/x-python",
   "name": "python",
   "nbconvert_exporter": "python",
   "pygments_lexer": "ipython3",
   "version": "3.7.1"
  }
 },
 "nbformat": 4,
 "nbformat_minor": 2
}
